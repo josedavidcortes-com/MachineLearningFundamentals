{
  "nbformat": 4,
  "nbformat_minor": 0,
  "metadata": {
    "colab": {
      "name": "MLF_Project_03.ipynb",
      "provenance": [],
      "collapsed_sections": [],
      "mount_file_id": "1pL4SCp4HinDzppuh2pX1UZdSK-5pf5pb",
      "authorship_tag": "ABX9TyNNlgewve7ervWjxknYT7OA",
      "include_colab_link": true
    },
    "kernelspec": {
      "name": "python3",
      "display_name": "Python 3"
    },
    "language_info": {
      "name": "python"
    }
  },
  "cells": [
    {
      "cell_type": "markdown",
      "metadata": {
        "id": "view-in-github",
        "colab_type": "text"
      },
      "source": [
        "<a href=\"https://colab.research.google.com/github/josedavidcortes-com/MachineLearningFundamentals/blob/main/MLF_Project_03.ipynb\" target=\"_parent\"><img src=\"https://colab.research.google.com/assets/colab-badge.svg\" alt=\"Open In Colab\"/></a>"
      ]
    },
    {
      "cell_type": "code",
      "execution_count": null,
      "metadata": {
        "id": "tSzA7saxE8mY"
      },
      "outputs": [],
      "source": [
        "import numpy as np\n",
        "import pandas as pd\n",
        "import seaborn as sn\n",
        "import matplotlib.pyplot as plt\n",
        "\n",
        "from sklearn.datasets import load_iris\n",
        "from sklearn.model_selection import train_test_split\n",
        "from sklearn.linear_model import LogisticRegression\n",
        "from sklearn.metrics import confusion_matrix\n",
        "from sklearn.model_selection import StratifiedKFold\n",
        "from sklearn.model_selection import KFold \n",
        "from sklearn.metrics import precision_score, recall_score, f1_score, accuracy_score"
      ]
    },
    {
      "cell_type": "code",
      "source": [
        "iris = load_iris(return_X_y=False)\n",
        "iris_df = pd.DataFrame(data=iris.data,columns=iris.feature_names)\n",
        "print(iris_df)\n",
        "features = iris['feature_names']\n",
        "iris_df['target'] = iris.target\n",
        "iris_df[\"target_name\"] = iris_df['target'].map({i:name for i,name in enumerate(iris.target_names)})\n",
        "\n",
        "# initialize the model\n",
        "model = LogisticRegression(solver=\"liblinear\", multi_class=\"auto\")\n",
        "\n",
        "\n",
        "#b) Validate using k-fold cross-validation (k = 10)\n",
        "k=10\n",
        "kf = KFold(n_splits = k,shuffle = True)\n"
      ],
      "metadata": {
        "id": "2xbRdgBvF3Ik",
        "colab": {
          "base_uri": "https://localhost:8080/"
        },
        "outputId": "a495c203-0344-49f6-f3f0-08c39a92925a"
      },
      "execution_count": null,
      "outputs": [
        {
          "output_type": "stream",
          "name": "stdout",
          "text": [
            "     sepal length (cm)  sepal width (cm)  petal length (cm)  petal width (cm)\n",
            "0                  5.1               3.5                1.4               0.2\n",
            "1                  4.9               3.0                1.4               0.2\n",
            "2                  4.7               3.2                1.3               0.2\n",
            "3                  4.6               3.1                1.5               0.2\n",
            "4                  5.0               3.6                1.4               0.2\n",
            "..                 ...               ...                ...               ...\n",
            "145                6.7               3.0                5.2               2.3\n",
            "146                6.3               2.5                5.0               1.9\n",
            "147                6.5               3.0                5.2               2.0\n",
            "148                6.2               3.4                5.4               2.3\n",
            "149                5.9               3.0                5.1               1.8\n",
            "\n",
            "[150 rows x 4 columns]\n"
          ]
        }
      ]
    },
    {
      "cell_type": "code",
      "source": [
        "dfs = []\n",
        "kf = StratifiedKFold(n_splits=k, shuffle=True, random_state=78)\n",
        "i = 1\n",
        "for train_index, test_index in kf.split(iris_df, iris_df[\"target\"]):\n",
        "    X_train = iris_df.iloc[train_index].loc[:, features]\n",
        "    X_test = iris_df.iloc[test_index].loc[:,features]\n",
        "    y_train = iris_df.iloc[train_index].loc[:,'target']\n",
        "    y_test = iris_df.loc[test_index].loc[:,'target']\n",
        "\n",
        "    #Train the model\n",
        "    model.fit(X_train, y_train) #Training the model\n",
        "    y_pred = model.predict(X_test)\n",
        "    print(f\"Fold {i}.\")\n",
        "    print(f\"Accuracy for the fold no. {i} on the test set: {accuracy_score(y_test, model.predict(X_test))}, doublecheck: {model.score(X_test,y_test)}\")\n",
        "    print('Precision: %.3f' % precision_score(y_test, y_pred,average = \"macro\"))\n",
        "    print('Recall: %.3f' % recall_score(y_test, y_pred,average = \"macro\"))\n",
        "    print('F1 Score: %.3f' % f1_score(y_test, y_pred,average = \"macro\"))\n",
        "    print(\"\\n\")\n",
        "    s_train = iris_df.iloc[train_index].loc[:,'target_name'].value_counts()\n",
        "    s_train.name = f\"train {i}\"\n",
        "    s_test = iris_df.iloc[test_index].loc[:,'target_name'].value_counts()\n",
        "    s_test.name = f\"test {i}\"\n",
        "    df = pd.concat([s_train, s_test], axis=1, sort=False)\n",
        "    df[\"|\"] = \"|\"\n",
        "    dfs.append(df)\n",
        "    \n",
        "    i=i+1    \n",
        "   "
      ],
      "metadata": {
        "colab": {
          "base_uri": "https://localhost:8080/"
        },
        "id": "O5Q1r72IHfFs",
        "outputId": "c6b18392-eca7-4e20-d624-b8d55f485a88"
      },
      "execution_count": null,
      "outputs": [
        {
          "output_type": "stream",
          "name": "stdout",
          "text": [
            "Fold 1.\n",
            "Accuracy for the fold no. 1 on the test set: 1.0, doublecheck: 1.0\n",
            "Precision: 1.000\n",
            "Recall: 1.000\n",
            "F1 Score: 1.000\n",
            "\n",
            "\n",
            "Fold 2.\n",
            "Accuracy for the fold no. 2 on the test set: 1.0, doublecheck: 1.0\n",
            "Precision: 1.000\n",
            "Recall: 1.000\n",
            "F1 Score: 1.000\n",
            "\n",
            "\n",
            "Fold 3.\n",
            "Accuracy for the fold no. 3 on the test set: 0.9333333333333333, doublecheck: 0.9333333333333333\n",
            "Precision: 0.944\n",
            "Recall: 0.933\n",
            "F1 Score: 0.933\n",
            "\n",
            "\n",
            "Fold 4.\n",
            "Accuracy for the fold no. 4 on the test set: 0.9333333333333333, doublecheck: 0.9333333333333333\n",
            "Precision: 0.944\n",
            "Recall: 0.933\n",
            "F1 Score: 0.933\n",
            "\n",
            "\n",
            "Fold 5.\n",
            "Accuracy for the fold no. 5 on the test set: 0.8666666666666667, doublecheck: 0.8666666666666667\n",
            "Precision: 0.905\n",
            "Recall: 0.867\n",
            "F1 Score: 0.861\n",
            "\n",
            "\n",
            "Fold 6.\n",
            "Accuracy for the fold no. 6 on the test set: 1.0, doublecheck: 1.0\n",
            "Precision: 1.000\n",
            "Recall: 1.000\n",
            "F1 Score: 1.000\n",
            "\n",
            "\n",
            "Fold 7.\n",
            "Accuracy for the fold no. 7 on the test set: 0.9333333333333333, doublecheck: 0.9333333333333333\n",
            "Precision: 0.944\n",
            "Recall: 0.933\n",
            "F1 Score: 0.933\n",
            "\n",
            "\n",
            "Fold 8.\n",
            "Accuracy for the fold no. 8 on the test set: 0.9333333333333333, doublecheck: 0.9333333333333333\n",
            "Precision: 0.944\n",
            "Recall: 0.933\n",
            "F1 Score: 0.933\n",
            "\n",
            "\n",
            "Fold 9.\n",
            "Accuracy for the fold no. 9 on the test set: 1.0, doublecheck: 1.0\n",
            "Precision: 1.000\n",
            "Recall: 1.000\n",
            "F1 Score: 1.000\n",
            "\n",
            "\n",
            "Fold 10.\n",
            "Accuracy for the fold no. 10 on the test set: 1.0, doublecheck: 1.0\n",
            "Precision: 1.000\n",
            "Recall: 1.000\n",
            "F1 Score: 1.000\n",
            "\n",
            "\n"
          ]
        }
      ]
    }
  ]
}